{
 "cells": [
  {
   "cell_type": "code",
   "execution_count": 17,
   "metadata": {},
   "outputs": [
    {
     "name": "stderr",
     "output_type": "stream",
     "text": [
      "[nltk_data] Downloading package punkt to\n",
      "[nltk_data]     /media/user/volume2/students/s124md209_01/nltk_data...\n",
      "[nltk_data]   Package punkt is already up-to-date!\n",
      "[nltk_data] Downloading package stopwords to\n",
      "[nltk_data]     /media/user/volume2/students/s124md209_01/nltk_data...\n",
      "[nltk_data]   Package stopwords is already up-to-date!\n"
     ]
    }
   ],
   "source": [
    "import nltk\n",
    "from nltk.tokenize import sent_tokenize, word_tokenize\n",
    "from nltk.corpus import stopwords\n",
    "from sklearn.feature_extraction.text import TfidfVectorizer\n",
    "from sklearn.metrics.pairwise import cosine_similarity\n",
    "import networkx as nx\n",
    "from scipy.sparse import csr_matrix\n",
    "from datasets import load_from_disk, Dataset, DatasetDict\n",
    "import os\n",
    "from multiprocessing import Pool\n",
    "\n",
    "# 下载必要的 NLTK 数据\n",
    "nltk.download(\"punkt\")\n",
    "nltk.download(\"stopwords\")\n",
    "\n",
    "def preprocess_text(text):\n",
    "    \"\"\"\n",
    "    对文本进行预处理，包括分句、分词、去停词、小写化。\n",
    "    \"\"\"\n",
    "    # 分句\n",
    "    sentences = sent_tokenize(text)\n",
    "\n",
    "    # 分词、去停词、小写化\n",
    "    stop_words = set(stopwords.words(\"english\"))\n",
    "    preprocessed_sentences = []\n",
    "    for sentence in sentences:\n",
    "        words = word_tokenize(sentence.lower())  # 小写化\n",
    "        words = [word for word in words if word.isalnum() and word not in stop_words]  # 去停词和非字母数字\n",
    "        preprocessed_sentences.append(\" \".join(words))\n",
    "    return sentences, preprocessed_sentences\n",
    "\n",
    "def textrank_summary(text, num_sentences=6):\n",
    "    \"\"\"\n",
    "    使用 TextRank 生成摘要。\n",
    "    :param text: 输入文本\n",
    "    :param num_sentences: 摘要中包含的句子数量\n",
    "    \"\"\"\n",
    "    # 1. 文本预处理\n",
    "    original_sentences, preprocessed_sentences = preprocess_text(text)\n",
    "\n",
    "    if len(original_sentences) <= num_sentences:\n",
    "        return \" \".join(original_sentences)  # 如果句子数量不足，直接返回原句子\n",
    "\n",
    "    # 2. 计算句子之间的稀疏相似性矩阵\n",
    "    vectorizer = TfidfVectorizer()\n",
    "    tfidf_matrix = vectorizer.fit_transform(preprocessed_sentences)\n",
    "    similarity_matrix = cosine_similarity(tfidf_matrix)\n",
    "\n",
    "    # 稀疏化相似性矩阵\n",
    "    threshold = 0.05\n",
    "    sparse_matrix = csr_matrix(similarity_matrix * (similarity_matrix > threshold))\n",
    "\n",
    "    # 3. 构建图并计算句子重要性\n",
    "    try:\n",
    "        nx_graph = nx.from_scipy_sparse_array(sparse_matrix)\n",
    "    except AttributeError:\n",
    "        nx_graph = nx.from_scipy_sparse_matrix(sparse_matrix)\n",
    "\n",
    "    scores = nx.pagerank(nx_graph)\n",
    "\n",
    "    # 4. 根据重要性排序句子并生成摘要\n",
    "    ranked_sentences = sorted(((scores[i], s) for i, s in enumerate(original_sentences)), reverse=True)\n",
    "    summary = \" \".join([s for _, s in ranked_sentences[:num_sentences]])\n",
    "\n",
    "    return summary\n",
    "\n",
    "def process_sample(sample):\n",
    "    \"\"\"\n",
    "    处理单个样本：生成摘要并保留原始数据。\n",
    "    \"\"\"\n",
    "    text = sample[\"text\"]\n",
    "    abstract = sample[\"abstract\"]\n",
    "    summary = textrank_summary(text, num_sentences=4)\n",
    "    return {\"text\": text, \"abstract\": abstract, \"generated_summary\": summary}\n",
    "\n",
    "\n"
   ]
  },
  {
   "cell_type": "code",
   "execution_count": 20,
   "metadata": {},
   "outputs": [],
   "source": [
    "text = \"Nick Clegg was heckled over his broken tuition fees pledge today as he ramped up his attack on George Osborne   with a stark warning that the Tory Chancellor is 'a very dangerous man'. The Deputy Prime Minister was met by protesters in Surbiton, south-west London, who chanted: 'Nick Clegg lied to me, he said uni would be free'. Mr Clegg ignored the protesters as he stuck to his message that only the Lib Dems can be trusted to balance the budget without hitting the poor. Scroll down for video . Nick Clegg was heckled by tuition fees protesters while out campaigning in Surbiton, South West London, today - while Lib Dem supporters tried to intervene . Nick Clegg was in Kingston and Surbiton to campaign with fellow Cabinet member, Secretary of State for Energy and Climate Change, Ed Davey today . The Lib Dem leader's campaign stop came after he launched a furious attack on the 'ideological' cuts planned by the Tories. Speaking to Tony Blair's former spin doctor Alastair Campbell in May's edition of GQ magazine, Mr Clegg said the chancellor's plans would do 'so much damage'. He added: 'I don't know of a developed economy that wants to do something as rigidly ideological as he wants to do, to balance the books through public spending reductions alone, not tax, with one section, the working poor, taking the biggest hit. 'I find it socially and morally unacceptable, but also economically a disaster.' The 'dramatic lurch to the right' involves a 'harder approach than anything the arch-Thatcherites would do' and would 'destroy public services', he said. Mr Clegg added: 'George Osborne is a very dangerous man with a very dangerous plan, and I will do everything in my power to stop it.' In contrast, Mr Clegg said the Prime Minister was 'a classic traditional shire Tory', adding: 'I can live with that.' He said Mr Cameron was 'very much a Tory, and in that tradition he is not too much about grand vision'. The Deputy Prime Minister launched a furious attack on the 'ideological' cuts planned by the Tories . Mr Clegg met seven-month-old Elise Popperwell and her mother Melissa Popperwell in South West London this morning . The Deputy Prime Minister said David Cameron was 'a classic traditional shire Tory', adding: 'I can live with that.' Asked about Ed Miliband, Mr Clegg said he was a 'perfectly nice guy, personable, as is David Cameron'. The Lib Dem leader said he wanted his party back in government 'because Osborne's ideological assault on public services has to be stopped' and 'Ed Miliband and Ed Balls' head-in-the-sand approach to public spending has to be challenged, because it would be really bad for the economy'. Treasury Secretary Danny Alexander meanwhile claimed that a top Tory told him 'you take care of the workers and we'll take care of the bosses', in a private Whitehall meeting to discuss the Coalition Government's priorities. Mr Alexander said it showed that David Cameron and George Osborne were guilty of 'breathtaking hypocrisy' for trying to claim responsibility for raising the threshold at which people pay tax - while privately arguing for tax cuts for the better-off. He said: 'In March 2012, when the economy was still in the very early stages of recovery, we wanted to do a very big increase in the personal allowance to put a lot of money back into folks' pockets. The Tories' priority at the time was the top rate of tax. 'I remember one meeting with a group of senior Conservatives and one of them said, 'listen, you take care of the workers and we'll take care of the bosses'.\"\n"
   ]
  },
  {
   "cell_type": "code",
   "execution_count": 21,
   "metadata": {},
   "outputs": [
    {
     "name": "stdout",
     "output_type": "stream",
     "text": [
      "示例摘要: In contrast, Mr Clegg said the Prime Minister was 'a classic traditional shire Tory', adding: 'I can live with that.' The Deputy Prime Minister said David Cameron was 'a classic traditional shire Tory', adding: 'I can live with that.' The Deputy Prime Minister was met by protesters in Surbiton, south-west London, who chanted: 'Nick Clegg lied to me, he said uni would be free'. The Deputy Prime Minister launched a furious attack on the 'ideological' cuts planned by the Tories .\n"
     ]
    }
   ],
   "source": [
    "result=process_sample({\"text\": text, \"abstract\": \"This is a test.\"})\n",
    "\n",
    "print(\"示例摘要:\", result[\"generated_summary\"])"
   ]
  },
  {
   "cell_type": "code",
   "execution_count": null,
   "metadata": {},
   "outputs": [],
   "source": [
    "\n",
    "def remove_location_and_author(text):\n",
    "    # Remove location/author patterns at the start of the text, e.g., \"LONDON, England (Reuters) -- \"\n",
    "    pattern_location = r'^[A-Z\\s,]+\\([A-Za-z]+\\)\\s*--\\s*'\n",
    "    text = re.sub(pattern_location, '', text).strip()\n",
    "\n",
    "    # Remove patterns like \"(CNN)\" or \"(Reuters)\"\n",
    "    pattern_source = r'\\([A-Za-z\\s]+\\)'\n",
    "    text = re.sub(pattern_source, '', text).strip()\n",
    "\n",
    "    # Remove patterns like \"By . James Chapman for the Daily Mail .\"\n",
    "    pattern_byline = r'^By\\s\\.\\s.*?\\.'\n",
    "    text = re.sub(pattern_byline, '', text).strip()\n",
    "\n",
    "    # Remove newlines and replace with spaces\n",
    "    text = re.sub(r'\\n+', ' ', text).strip()\n",
    "\n",
    "    return text"
   ]
  }
 ],
 "metadata": {
  "kernelspec": {
   "display_name": "NLP",
   "language": "python",
   "name": "python3"
  },
  "language_info": {
   "codemirror_mode": {
    "name": "ipython",
    "version": 3
   },
   "file_extension": ".py",
   "mimetype": "text/x-python",
   "name": "python",
   "nbconvert_exporter": "python",
   "pygments_lexer": "ipython3",
   "version": "3.8.19"
  }
 },
 "nbformat": 4,
 "nbformat_minor": 2
}
